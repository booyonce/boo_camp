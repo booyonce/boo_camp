{
 "cells": [
  {
   "cell_type": "code",
   "execution_count": null,
   "id": "03943655",
   "metadata": {},
   "outputs": [],
   "source": [
    "참고자료 : \n",
    "    https://blog.naver.com/tiled12/222134737921\n",
    "    https://blog.naver.com/sookr5416/222311072242\n",
    "    https://blog.naver.com/handuelly/221822846417"
   ]
  },
  {
   "cell_type": "code",
   "execution_count": 76,
   "id": "798acd43",
   "metadata": {},
   "outputs": [],
   "source": [
    "import pandas as pd\n",
    "import tensorflow as tf\n",
    "import numpy as np\n",
    "\n",
    "from tensorflow.keras import layers\n",
    "from tensorflow.keras.layers.experimental import preprocessing"
   ]
  },
  {
   "cell_type": "code",
   "execution_count": 46,
   "id": "4313eee3",
   "metadata": {},
   "outputs": [],
   "source": [
    "def LoadData(input_file) :\n",
    "    data = pd.read_csv(input_file, encoding=\"UTF-8\")\n",
    "    #reader = tf.TextLineReader(skip_header_lines=1)\n",
    "    #_, csv_row = reader.read(input_file)\n",
    "    \n",
    "    data.head()\n",
    "    \n",
    "    features = data.copy()\n",
    "    labels = features.pop('Price')\n",
    "    features = np.array(features).astype(float)\n",
    "\n",
    "    return features, labels"
   ]
  },
  {
   "cell_type": "code",
   "execution_count": 47,
   "id": "e8f13d83",
   "metadata": {},
   "outputs": [],
   "source": [
    "def Normalize(data):\n",
    "    normalize = preprocessing.Normalization()\n",
    "    normalize.adapt(data)\n",
    "    return normalize"
   ]
  },
  {
   "cell_type": "code",
   "execution_count": 81,
   "id": "1c1fadc2",
   "metadata": {},
   "outputs": [],
   "source": [
    "def train(features, labels) :\n",
    "    #print(features)\n",
    "    \n",
    "    model = tf.keras.Sequential([\n",
    "        Normalize(features),\n",
    "        layers.Dense(units=1, activation='linear', input_dim=2),\n",
    "        layers.Dense(1)\n",
    "    ])\n",
    "    \n",
    "    model.summary()\n",
    "    \n",
    "    model.compile(loss = tf.losses.MeanSquaredError(), optimizer = tf.optimizers.Adam())\n",
    "    model.fit(x=features, y=labels, epochs=10, batch_size=32)"
   ]
  },
  {
   "cell_type": "code",
   "execution_count": 82,
   "id": "e01456c4",
   "metadata": {},
   "outputs": [
    {
     "name": "stdout",
     "output_type": "stream",
     "text": [
      "(6019, 16) (6019,)\n",
      "Model: \"sequential_17\"\n",
      "_________________________________________________________________\n",
      "Layer (type)                 Output Shape              Param #   \n",
      "=================================================================\n",
      "normalization_21 (Normalizat (None, 16)                33        \n",
      "_________________________________________________________________\n",
      "dense_34 (Dense)             (None, 1)                 17        \n",
      "_________________________________________________________________\n",
      "dense_35 (Dense)             (None, 1)                 2         \n",
      "=================================================================\n",
      "Total params: 52\n",
      "Trainable params: 19\n",
      "Non-trainable params: 33\n",
      "_________________________________________________________________\n",
      "Epoch 1/10\n",
      "189/189 [==============================] - 1s 1ms/step - loss: nan        \n",
      "Epoch 2/10\n",
      "189/189 [==============================] - 0s 1ms/step - loss: nan\n",
      "Epoch 3/10\n",
      "189/189 [==============================] - 0s 1ms/step - loss: nan\n",
      "Epoch 4/10\n",
      "189/189 [==============================] - 0s 1ms/step - loss: nan\n",
      "Epoch 5/10\n",
      "189/189 [==============================] - 0s 1ms/step - loss: nan\n",
      "Epoch 6/10\n",
      "189/189 [==============================] - 0s 2ms/step - loss: nan\n",
      "Epoch 7/10\n",
      "189/189 [==============================] - 0s 1ms/step - loss: nan\n",
      "Epoch 8/10\n",
      "189/189 [==============================] - 0s 2ms/step - loss: nan\n",
      "Epoch 9/10\n",
      "189/189 [==============================] - 0s 2ms/step - loss: nan\n",
      "Epoch 10/10\n",
      "189/189 [==============================] - 0s 2ms/step - loss: nan\n"
     ]
    }
   ],
   "source": [
    "f, l = LoadData('data/ev-train-data.csv')\n",
    "print(f.shape, l.shape)\n",
    "train(f, l)"
   ]
  },
  {
   "cell_type": "markdown",
   "id": "df126438",
   "metadata": {},
   "source": [
    "## 다중선형회귀 sample"
   ]
  },
  {
   "cell_type": "code",
   "execution_count": 24,
   "id": "acbf3b6c",
   "metadata": {},
   "outputs": [
    {
     "name": "stdout",
     "output_type": "stream",
     "text": [
      "    0 |   23879.3008\n",
      "   50 |     294.6528\n",
      "  100 |      32.8810\n",
      "  150 |      29.9010\n",
      "  200 |      29.7929\n",
      "  250 |      29.7167\n",
      "  300 |      29.6412\n",
      "  350 |      29.5659\n",
      "  400 |      29.4909\n",
      "  450 |      29.4158\n",
      "  500 |      29.3411\n",
      "  550 |      29.2667\n",
      "  600 |      29.1923\n",
      "  650 |      29.1181\n",
      "  700 |      29.0443\n",
      "  750 |      28.9705\n",
      "  800 |      28.8970\n",
      "  850 |      28.8237\n",
      "  900 |      28.7506\n",
      "  950 |      28.6775\n",
      " 1000 |      28.6049\n"
     ]
    }
   ],
   "source": [
    "import tensorflow as tf\n",
    "\n",
    "F_CNT = 16\n",
    "\n",
    "x1 = [73, 93, 89, 96, 73]\n",
    "x2 = [80, 88, 91, 98, 66]\n",
    "x3 = [75, 93, 90, 100, 70]\n",
    "y = [152, 185, 180, 196, 142]\n",
    "\n",
    "w1 = tf.Variable(tf.random.normal([1]))\n",
    "w2 = tf.Variable(tf.random.normal([1]))\n",
    "w3 = tf.Variable(tf.random.normal([1]))\n",
    "b = tf.Variable(tf.random.normal([1]))\n",
    "\n",
    "learning_rate = 0.000001\n",
    "\n",
    "for i in range(1000+1) : \n",
    "    with tf.GradientTape() as tape:\n",
    "        h = w1*x1 + w2*x2 + w3*x3 + b\n",
    "        cost = tf.reduce_mean(tf.square(h-y))\n",
    "        \n",
    "        w1_grad, w2_grad, w3_grad, b_grad = tape.gradient(cost, [w1, w2, w3, b])\n",
    "        \n",
    "        w1.assign_sub(learning_rate * w1_grad)\n",
    "        w2.assign_sub(learning_rate * w2_grad)\n",
    "        w3.assign_sub(learning_rate * w3_grad)\n",
    "        b.assign_sub(learning_rate * b_grad)\n",
    "        \n",
    "        if i%50 == 0:\n",
    "            print(\"{:5} | {:12.4f}\".format(i, cost.numpy()))"
   ]
  },
  {
   "cell_type": "code",
   "execution_count": null,
   "id": "8e8cd5df",
   "metadata": {},
   "outputs": [],
   "source": []
  }
 ],
 "metadata": {
  "kernelspec": {
   "display_name": "Python 3",
   "language": "python",
   "name": "python3"
  },
  "language_info": {
   "codemirror_mode": {
    "name": "ipython",
    "version": 3
   },
   "file_extension": ".py",
   "mimetype": "text/x-python",
   "name": "python",
   "nbconvert_exporter": "python",
   "pygments_lexer": "ipython3",
   "version": "3.8.8"
  }
 },
 "nbformat": 4,
 "nbformat_minor": 5
}
